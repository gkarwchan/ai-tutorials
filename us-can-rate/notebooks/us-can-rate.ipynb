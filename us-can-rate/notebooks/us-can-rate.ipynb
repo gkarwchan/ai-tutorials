{
 "cells": [
  {
   "cell_type": "markdown",
   "id": "d23cce4f-fd07-45f8-8dee-3167ab44096c",
   "metadata": {},
   "source": [
    "## Setup\n",
    "All what you need is an .env file with the following data. (PS: you only need on model key depends on the model you want to use)\n",
    "\n",
    "\n",
    "NEWS_ORG_API_KEY= (you can get it from newsapi.org)  \n",
    "OPENAI_API_KEY=  \n",
    "CLAUDE_API_KEY=  \n",
    "GROQ_API_KEY=  "
   ]
  },
  {
   "cell_type": "code",
   "execution_count": 11,
   "id": "96b79647-a2ad-46d8-b05c-29ecb3c8e21a",
   "metadata": {},
   "outputs": [],
   "source": [
    "import openai\n",
    "import pandas as pd\n",
    "import yfinance as yf\n",
    "from newsapi import NewsApiClient\n",
    "import matplotlib.pyplot as plt\n",
    "import datetime\n",
    "from dotenv import load_dotenv, find_dotenv\n",
    "load_dotenv()\n",
    "import os\n",
    "\n",
    "newsOrgKey = os.getenv(\"NEWS_ORG_API_KEY\")\n",
    "newsapiclient = NewsApiClient(api_key=newsOrgKey)"
   ]
  },
  {
   "cell_type": "markdown",
   "id": "66159848-0276-45a7-b6f0-6418e4e8af79",
   "metadata": {},
   "source": [
    "### 1. Get last week of news"
   ]
  },
  {
   "cell_type": "code",
   "execution_count": 21,
   "id": "1e2ddc9b-9f54-46c1-add1-afaa407a3e50",
   "metadata": {},
   "outputs": [],
   "source": [
    "today = datetime.date.today()\n",
    "from_date = today - datetime.timedelta(days=30)\n",
    "articles = newsapiclient.get_everything(\n",
    "    q='Canada AND \"us relateions\"',\n",
    "    from_param=from_date.isoformat(),\n",
    "    language='en',\n",
    "    sort_by='publishedAt', \n",
    "    page_size=20\n",
    ")\n",
    "\n",
    "texts = [article['title'] + \". \" + article['description'] for article in articles['articles']]\n",
    "combined_text = \"\\n\".join(texts)"
   ]
  },
  {
   "cell_type": "code",
   "execution_count": 14,
   "id": "c10f8e07-9398-4ebd-ad57-43cce322af05",
   "metadata": {},
   "outputs": [
    {
     "data": {
      "text/plain": [
       "''"
      ]
     },
     "execution_count": 14,
     "metadata": {},
     "output_type": "execute_result"
    }
   ],
   "source": [
    "combined_text"
   ]
  },
  {
   "cell_type": "code",
   "execution_count": 20,
   "id": "9333a8eb-f59b-434c-9591-7b02611649af",
   "metadata": {},
   "outputs": [
    {
     "data": {
      "text/plain": [
       "{'status': 'ok', 'totalResults': 0, 'articles': []}"
      ]
     },
     "execution_count": 20,
     "metadata": {},
     "output_type": "execute_result"
    }
   ],
   "source": [
    "articles"
   ]
  },
  {
   "cell_type": "code",
   "execution_count": 1,
   "id": "dc3d599f-dad0-4e66-8bb5-8653265cb9ac",
   "metadata": {},
   "outputs": [],
   "source": [
    "import warnings\n"
   ]
  },
  {
   "cell_type": "code",
   "execution_count": 2,
   "id": "862d3116-9f3f-4eef-b586-76e17cdf32ca",
   "metadata": {},
   "outputs": [
    {
     "ename": "ModuleNotFoundError",
     "evalue": "No module named 'textblob'",
     "output_type": "error",
     "traceback": [
      "\u001b[31m---------------------------------------------------------------------------\u001b[39m",
      "\u001b[31mModuleNotFoundError\u001b[39m                       Traceback (most recent call last)",
      "\u001b[36mCell\u001b[39m\u001b[36m \u001b[39m\u001b[32mIn[2]\u001b[39m\u001b[32m, line 1\u001b[39m\n\u001b[32m----> \u001b[39m\u001b[32m1\u001b[39m \u001b[38;5;28;01mfrom\u001b[39;00m\u001b[38;5;250m \u001b[39m\u001b[34;01mtextblob\u001b[39;00m\u001b[38;5;250m \u001b[39m\u001b[38;5;28;01mimport\u001b[39;00m TextBlob\n",
      "\u001b[31mModuleNotFoundError\u001b[39m: No module named 'textblob'"
     ]
    }
   ],
   "source": [
    "from textblob import TextBlob"
   ]
  },
  {
   "cell_type": "code",
   "execution_count": null,
   "id": "2a2386da-a8ec-4b5f-b7f0-2eac5b46ab5c",
   "metadata": {},
   "outputs": [],
   "source": []
  }
 ],
 "metadata": {
  "kernelspec": {
   "display_name": "Python 3 (ipykernel)",
   "language": "python",
   "name": "python3"
  },
  "language_info": {
   "codemirror_mode": {
    "name": "ipython",
    "version": 3
   },
   "file_extension": ".py",
   "mimetype": "text/x-python",
   "name": "python",
   "nbconvert_exporter": "python",
   "pygments_lexer": "ipython3",
   "version": "3.12.11"
  }
 },
 "nbformat": 4,
 "nbformat_minor": 5
}
