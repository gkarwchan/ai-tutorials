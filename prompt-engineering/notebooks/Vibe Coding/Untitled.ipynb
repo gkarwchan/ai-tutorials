{
 "cells": [
  {
   "cell_type": "markdown",
   "id": "2c6b1433-bbcb-4c99-9f62-4d1c5160fc7b",
   "metadata": {},
   "source": [
    "# Github Copilot best practices"
   ]
  },
  {
   "cell_type": "markdown",
   "id": "612d94e4-767e-4250-8375-9e75ef389bf0",
   "metadata": {},
   "source": [
    "## Set the state with a high-level goal:\n",
    "This is the most useful if you have a blank file or empty codebase.\n",
    "Example: creaet an application in Next.js that is a markdown editor\n",
    "\n",
    "```\n",
    "Create a basic markdown editor in Next.js with the following features:\n",
    "- Use react hooks\n",
    "- Create state for markdown with default text \"type markdown here\"\n",
    "- A text area where users can write markdown\n",
    "- Show a live preview of the markdown text as I type\n",
    "- Support for basic markdown syntax like headers, bold, italics\n",
    "- Use React markdown npm package\n",
    "- The markdown text and resulting HTML should be saved in the component's state and updated in real time\n",
    "```"
   ]
  },
  {
   "cell_type": "markdown",
   "id": "35584c5b-3e50-42b6-a79c-3a8de0a2e1ab",
   "metadata": {},
   "source": [
    "## Make your prompt simple and specific. Aim to receive a short output from Copilot\n",
    "Try to make it a step by step"
   ]
  },
  {
   "cell_type": "markdown",
   "id": "2f004494-ae79-4b90-b5cb-acbecba8f093",
   "metadata": {},
   "source": [
    "## Give Copilot an example or two\n",
    "\n",
    "```\n",
    "// Map through an array of arrays of objects\n",
    "// Example: Extract names from the data array\n",
    "// Desired outcome: ['John', 'Jane', 'Bob']\n",
    "const data = [\n",
    "[{ name: 'John', age: 25 }, { name: 'Jane', age: 30 }],\n",
    "[{ name: 'Bob', age: 40 }]\n",
    "];\n",
    "```"
   ]
  },
  {
   "cell_type": "markdown",
   "id": "11846aa0-63ab-4f9e-8ed9-6f51d7a657fe",
   "metadata": {},
   "source": [
    "# Copilot tips\n",
    "\n",
    "## 1. Experiment with your prompt\n",
    "\n",
    "```\n",
    "# Write some code for grades.py\n",
    "\n",
    "# Implement a function in grades.py to calculate the average grade\n",
    "\n",
    "# Implement the function calculate_average_grade in grades.py that takes a list of grades as input and returns the average grade as a floating-point number\n",
    "```\n"
   ]
  },
  {
   "cell_type": "markdown",
   "id": "7865287d-8a68-459b-891d-ed469116d02b",
   "metadata": {},
   "source": [
    "## 2. keep a couple of relevant tabs open\n",
    "\n",
    "Copilot uses a technique called neighboring tabs that allow AI to contextualize your code by processing all of the files open."
   ]
  },
  {
   "cell_type": "markdown",
   "id": "0741bebd-96de-4922-8f72-c3004788ff16",
   "metadata": {},
   "source": [
    "## 3. Use good coding practices\n",
    "\n",
    "* provide descriptive variable and function names\n",
    "* following consistent coding styles and patterns"
   ]
  },
  {
   "cell_type": "markdown",
   "id": "4cd4a780-7aa7-4bb2-8124-2c22acec4fb5",
   "metadata": {},
   "source": [
    "## GitHub Copilot-X\n",
    "\n",
    "Github Copilot-x is a \"client\" side software that is included in Copilot, and it has its own algorithm and AI.  \n",
    "Its job is to filter out the local code to something we transfer to the backend model.\n",
    "Current code usually is huge. Copilot-x will do the following:\n",
    "\n",
    "1. detemine the language (all IDE knows and can interfer the language from the code base)\n",
    "2. There is a limit of the prompot size to send to the model (ideally less than 1600 tokens)\n",
    "3. Copilot-x will do **Gathering Context** and filter while the user type the words\n",
    "4. Open tabs: Try to get the relevant code from the **open tabs** of the IDE, hoping its relevant to the code\n",
    "5. Snippeting: It is selective of what code should include in the prompt context, so it divide the code into snippest (idealy no more than 60 lines of code), and do **score** them to see if they are relvant to the typing code. To do that it uses an algorithm called **`Jaccard Index Similarity`**"
   ]
  },
  {
   "cell_type": "code",
   "execution_count": null,
   "id": "2fda0056-abac-490d-88e6-746cc4445078",
   "metadata": {},
   "outputs": [],
   "source": []
  }
 ],
 "metadata": {
  "kernelspec": {
   "display_name": "Python 3 (ipykernel)",
   "language": "python",
   "name": "python3"
  },
  "language_info": {
   "codemirror_mode": {
    "name": "ipython",
    "version": 3
   },
   "file_extension": ".py",
   "mimetype": "text/x-python",
   "name": "python",
   "nbconvert_exporter": "python",
   "pygments_lexer": "ipython3",
   "version": "3.12.10"
  }
 },
 "nbformat": 4,
 "nbformat_minor": 5
}
