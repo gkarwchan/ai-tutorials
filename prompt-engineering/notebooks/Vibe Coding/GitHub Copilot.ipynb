{
 "cells": [
  {
   "cell_type": "markdown",
   "id": "52bd12d0-0a8d-4e17-b408-dab0a2360c36",
   "metadata": {},
   "source": [
    "# Github copilot\n",
    "\n",
    "## best practices for prompt crafting\n"
   ]
  },
  {
   "cell_type": "code",
   "execution_count": null,
   "id": "b79921fc-503c-4e8e-a8e2-ed44800862c5",
   "metadata": {},
   "outputs": [],
   "source": []
  }
 ],
 "metadata": {
  "kernelspec": {
   "display_name": "Python 3 (ipykernel)",
   "language": "python",
   "name": "python3"
  },
  "language_info": {
   "codemirror_mode": {
    "name": "ipython",
    "version": 3
   },
   "file_extension": ".py",
   "mimetype": "text/x-python",
   "name": "python",
   "nbconvert_exporter": "python",
   "pygments_lexer": "ipython3",
   "version": "3.12.10"
  }
 },
 "nbformat": 4,
 "nbformat_minor": 5
}
