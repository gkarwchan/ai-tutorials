{
 "cells": [
  {
   "cell_type": "markdown",
   "id": "169fa757-c330-4efc-9aaa-661c823d231f",
   "metadata": {},
   "source": [
    "## Primary content design pattern"
   ]
  },
  {
   "cell_type": "markdown",
   "id": "7a1adbdc-43b5-4ab3-bed9-1b37dd611703",
   "metadata": {},
   "source": [
    "With primary content design pattern, the text input is divided into two parts:\n",
    "* an instruction\n",
    "* relevant content\n",
    "Here is an example:\n",
    "\n",
    "Jupiter is the fifth planet from the Sun and the largest in the Solar System. It is a gas giant with a mass one-thousandth that of the Sun, but two-and-a-half times that of all the other planets in the Solar System combined. Jupiter is one of the brightest objects visible to the naked eye in the night sky, and has been known to ancient civilizations since before recorded history. It is named after the Roman god Jupiter.When viewed from Earth, Jupiter can be bright enough for its reflected light to cast visible shadows,[20] and is on average the third-brightest natural object in the night sky after the Moon and Venus.\n",
    "\n",
    "**Summarize this in 2 short sentences**\n"
   ]
  },
  {
   "cell_type": "markdown",
   "id": "751cde7e-2974-4c47-b96d-0ff57191a8c4",
   "metadata": {},
   "source": [
    "The primary content segement can be used in various ways to derive more effective instructions:\n",
    "1. examples\n",
    "2. cues\n",
    "3. templates"
   ]
  },
  {
   "cell_type": "markdown",
   "id": "1fefc963-e48c-4176-9574-5a49de980f4c",
   "metadata": {},
   "source": [
    "### 1. Examples\n",
    "With this approach you use the primary content to \"feed the model\" some examples.\n",
    "\n",
    "| Learning Type | Prompt (Input) | Completion (Output) |\n",
    "| --- | ----- | --- |\n",
    "| Zero-shot | \"The Sun is shining\". Translate to Spanish | \"El Sol está brillando\" |\n",
    "| One-shot | \"The Sun is Shining\" => \"\"El Sol está brillando\". <br>\"It's a Cold and Windy Day\" => | \"Es un día frío y ventoso\". |\n",
    "| Few-shot | The player ran the bases => Baseball <br> The player hit an ace => Tennis <br> The player hit a six => Cricket <br> The player made a slam-dunk => | Basketball |"
   ]
  },
  {
   "cell_type": "markdown",
   "id": "dabc4a52-7457-4157-bff7-ea1f99aa3cb9",
   "metadata": {},
   "source": [
    "### 2. Cues\n",
    "another technique for using primary content is to provide cues \n",
    "\n",
    "| Number of Cues | Prompt (Input) | Completion (Output) |\n",
    "| - | ------ | ------ |\n",
    "| 0 | Jupiter is the fifth planet from the Sun and the largest in the Solar System. It is a gas giant with a mass one-thousandth that of the Sun, but two-and-a-half times that of all the other planets in the Solar System combined. Jupiter is one of the brightest objects visible to the naked eye in the night sky, and has been known to ancient civilizations since before recorded history. <br> **Summarize This** | Jupiter is the largest planet in our Solar System and the fifth one from the Sun. It is a gas giant with a mass 1/1000th of the Sun's, but it is heavier than all the other planets combined. Ancient civilizations have known about Jupiter for a long time, and it is easily visible in the night sky.. |\n",
    "| 1\t| Jupiter is the fifth planet from the Sun and the largest in the Solar System. It is a gas giant with a mass one-thousandth that of the Sun, but two-and-a-half times that of all the other planets in the Solar System combined. Jupiter is one of the brightest objects visible to the naked eye in the night sky, and has been known to ancient civilizations since before recorded history. <br> **Summarize This** <br> *What we learned is that Jupiter* | is the fifth planet from the Sun and the largest in the Solar System. It is a gas giant with a mass one-thousandth that of the Sun, but two-and-a-half times that of all the other planets combined. It is easily visible to the naked eye and has been known since ancient times. |\n",
    "| 2 | Jupiter is the fifth planet from the Sun and the largest in the Solar System. It is a gas giant with a mass one-thousandth that of the Sun, but two-and-a-half times that of all the other planets in the Solar System combined. Jupiter is one of the brightest objects visible to the naked eye in the night sky, and has been known to ancient civilizations since before recorded history. <br> **Summarize This** <br> *Top 3 Facts We Learned:* | 1. Jupiter is the fifth planet from the Sun and the largest in the Solar System. <br> 2. It is a gas giant with a mass one-thousandth that of the Sun...<br> 3. Jupiter has been visible to the naked eye since ancient times ... |"
   ]
  },
  {
   "cell_type": "markdown",
   "id": "4f66eea1-5063-4811-8fe5-e93f6b623315",
   "metadata": {},
   "source": [
    "### 3. Prompt templates\n",
    "A prompt template is a pre-defined recipe for a prompt that can be stored and reused as needed.\n",
    "\n",
    "A collection of examples: [from OpenAI](https://platform.openai.com/docs/examples), which provides both the interactive prompt component (user and system) and the API-driven format.  \n",
    "Another more complex examples: [from Longchain](https://python.langchain.com/docs/concepts/prompt_templates), which contains placeholders. This allow us to create a library of reusable prompts that can drive consistent user experiences programatically."
   ]
  },
  {
   "cell_type": "code",
   "execution_count": null,
   "id": "d9295f5e-7362-4ac7-a017-b2680e5a0735",
   "metadata": {},
   "outputs": [],
   "source": []
  }
 ],
 "metadata": {
  "kernelspec": {
   "display_name": "Python 3 (ipykernel)",
   "language": "python",
   "name": "python3"
  },
  "language_info": {
   "codemirror_mode": {
    "name": "ipython",
    "version": 3
   },
   "file_extension": ".py",
   "mimetype": "text/x-python",
   "name": "python",
   "nbconvert_exporter": "python",
   "pygments_lexer": "ipython3",
   "version": "3.12.10"
  }
 },
 "nbformat": 4,
 "nbformat_minor": 5
}
