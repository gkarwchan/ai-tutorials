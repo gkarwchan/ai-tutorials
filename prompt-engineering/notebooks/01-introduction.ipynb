{
 "cells": [
  {
   "cell_type": "markdown",
   "id": "8357d499-7d1d-4344-8bff-f9c1ffcef043",
   "metadata": {},
   "source": [
    "# Why Prompt Engineering"
   ]
  },
  {
   "cell_type": "markdown",
   "id": "0a6f377a-96fa-4791-b116-ea8c25125172",
   "metadata": {},
   "source": [
    "1. Model responses are stochastic: The same prompt will likely produce different responses with different models or model versions.\n",
    "2. Models can fabricate responses: hellucication and fabrication.\n",
    "3. Models capabilities will vary."
   ]
  },
  {
   "cell_type": "markdown",
   "id": "2d0d6d72-58ff-4f10-bf73-04a5953cf586",
   "metadata": {},
   "source": [
    "All what you need to run the code is have a **.env** file, with the following key\n",
    "```bash\n",
    "OPENAI_API_KEY=\n",
    "```"
   ]
  },
  {
   "cell_type": "code",
   "execution_count": 1,
   "id": "f503423b-68c7-497c-8c1b-1899eb036ce8",
   "metadata": {},
   "outputs": [
    {
     "data": {
      "text/plain": [
       "True"
      ]
     },
     "execution_count": 1,
     "metadata": {},
     "output_type": "execute_result"
    }
   ],
   "source": [
    "from openai import OpenAI\n",
    "import os\n",
    "from dotenv import load_dotenv, find_dotenv\n",
    "load_dotenv()\n"
   ]
  },
  {
   "cell_type": "code",
   "execution_count": 2,
   "id": "de6ca2fd-6c10-4f6b-966a-c870ebb4a4ea",
   "metadata": {},
   "outputs": [],
   "source": [
    "client = OpenAI()\n",
    "\n",
    "def get_completion(prompt, model =\"gpt-3.5-turbo\"):\n",
    "    response = client.chat.completions.create(\n",
    "        model=model,\n",
    "        messages=[\n",
    "            {\"role\": \"user\", \"content\": prompt}\n",
    "        ],\n",
    "        temperature=0,\n",
    "    )\n",
    "    return response.choices[0].message.content"
   ]
  },
  {
   "cell_type": "markdown",
   "id": "6d032941-a7ea-47b3-ab9f-3b38e471ca8e",
   "metadata": {},
   "source": [
    "# Types of prompts"
   ]
  },
  {
   "cell_type": "markdown",
   "id": "756dad89-f897-4a4f-bb87-53825d8d18cc",
   "metadata": {},
   "source": [
    "## 1. Basic Prompt"
   ]
  },
  {
   "cell_type": "code",
   "execution_count": 3,
   "id": "266dad92-9044-4c79-9ba3-e2f1a0fff39f",
   "metadata": {},
   "outputs": [
    {
     "name": "stdout",
     "output_type": "stream",
     "text": [
      "By the dawn's early light\n"
     ]
    }
   ],
   "source": [
    "prompt = f\"\"\"\n",
    "Oh say can you see\n",
    "\"\"\"\n",
    "response = get_completion(prompt)\n",
    "print (response)"
   ]
  },
  {
   "cell_type": "markdown",
   "id": "510395f2-989c-4da1-a27f-94b897c1aaf0",
   "metadata": {},
   "source": [
    "## 2. Complex prompt"
   ]
  },
  {
   "cell_type": "code",
   "execution_count": 4,
   "id": "c08bf7f8-9529-45b5-b828-186f14e68a98",
   "metadata": {},
   "outputs": [
    {
     "name": "stdout",
     "output_type": "stream",
     "text": [
      "The 2020 World Series was played at Globe Life Field in Arlington, Texas.\n"
     ]
    }
   ],
   "source": [
    "response = client.chat.completions.create(\n",
    "    model = \"gpt-3.5-turbo\",\n",
    "    messages = [\n",
    "        { \"role\": \"system\", \"content\": \"You are a helpful assistant.\"},\n",
    "        { \"role\": \"user\", \"content\": \"Who won the world series in 2020\"},\n",
    "        { \"role\": \"assistant\", \"content\": \"The Los Angeles Dodgers won the World Series in 2020.\" },\n",
    "        { \"role\": \"user\", \"content\": \"Where was it played?\" }\n",
    "    ]\n",
    ")\n",
    "print (response.choices[0].message.content)"
   ]
  },
  {
   "cell_type": "code",
   "execution_count": 5,
   "id": "adb4f3b1-e1ca-4408-9ebe-a70383fec8a5",
   "metadata": {},
   "outputs": [
    {
     "name": "stdout",
     "output_type": "stream",
     "text": [
      "[Choice(finish_reason='stop', index=0, logprobs=None, message=ChatCompletionMessage(content='The World Series in 2020 was played at a neutral site due to the COVID-19 pandemic. The games were played at Globe Life Field in Arlington, Texas.', refusal=None, role='assistant', annotations=[], audio=None, function_call=None, tool_calls=None))]\n"
     ]
    }
   ],
   "source": [
    "response = client.chat.completions.create(\n",
    "    model = \"gpt-3.5-turbo\",\n",
    "    messages = [\n",
    "        { \"role\": \"system\", \"content\": \"You are a helpful assistant.\"},\n",
    "        { \"role\": \"user\", \"content\": \"Who won the world series in 2020\"},\n",
    "        { \"role\": \"assistant\", \"content\": \"The Los Angeles Dodgers won the World Series in 2020.\" },\n",
    "        { \"role\": \"user\", \"content\": \"Where was it played?\" }\n",
    "    ]\n",
    ")\n",
    "print (response.choices)"
   ]
  },
  {
   "cell_type": "markdown",
   "id": "e8c2643f-eb05-4ace-a812-32b2d460c2fa",
   "metadata": {},
   "source": [
    "# Principles\n",
    "\n",
    "1. Write clear and specific instructions\n",
    "2. Give the model time to \"think\"\n",
    "\n",
    "To do that we use the following tacktics:\n",
    "\n",
    "# Write clear and specifig instructions:\n",
    "\n",
    "## 1. Use delimiters to clearly indicate distinct parts of the input\n",
    "\n",
    "delimiters can be anything like:  \n",
    "* triple quotes: \"\"\"\n",
    "* triple backticks: ```\n",
    "* triple dashes: ---\n",
    "* angle brackets: <>\n",
    "* xml tags: <tag> </tag>"
   ]
  },
  {
   "cell_type": "code",
   "execution_count": 6,
   "id": "a056ed08-131b-44f3-b108-cce8eb9b5485",
   "metadata": {},
   "outputs": [],
   "source": [
    "text = f\"\"\"\n",
    "Jupiter is the fifth planet from the Sun and the largest in the Solar System. It is a gas giant with a mass one-thousandth that of the Sun, \\\n",
    "but two-and-a-half times that of all the other planets in the Solar System combined. \\\n",
    "Jupiter is one of the brightest objects visible to the naked eye in the night sky, and has been known to ancient civilizations \\\n",
    "since before recorded history. It is named after the Roman god Jupiter. When viewed from Earth, Jupiter can be bright enough for its reflected \\\n",
    "light to cast visible shadows, and is on average the third-brightest natural object in the night sky after the Moon and Venus.\n",
    "\"\"\"\n"
   ]
  },
  {
   "cell_type": "code",
   "execution_count": 7,
   "id": "4c35f246-1090-4c53-83c8-cba5a9cb35aa",
   "metadata": {},
   "outputs": [],
   "source": [
    "prompt = f\"\"\"\n",
    "Summarize the text delimited by triple backticks \\\n",
    "```{text}```\n",
    "\"\"\""
   ]
  },
  {
   "cell_type": "code",
   "execution_count": 8,
   "id": "0464e80b-5324-43e1-9746-9c855758a63b",
   "metadata": {},
   "outputs": [
    {
     "name": "stdout",
     "output_type": "stream",
     "text": [
      "Jupiter is the largest planet in the Solar System, known to ancient civilizations and named after the Roman god Jupiter. It is a gas giant with a mass one-thousandth that of the Sun, but two-and-a-half times that of all other planets combined. Jupiter is one of the brightest objects in the night sky, visible to the naked eye, and can cast visible shadows when viewed from Earth.\n"
     ]
    }
   ],
   "source": [
    "response = get_completion(prompt)\n",
    "print (response)"
   ]
  },
  {
   "cell_type": "markdown",
   "id": "6e91b27b-79a7-4ad3-8fa1-257960d76035",
   "metadata": {},
   "source": [
    "## 2. Ask for structured output"
   ]
  },
  {
   "cell_type": "code",
   "execution_count": 9,
   "id": "377a8cbd-0595-4812-a1bc-64920a9696b7",
   "metadata": {},
   "outputs": [],
   "source": [
    "prompt = f\"\"\"\n",
    "summarize the facts in the text delimited by triple backticks and print them in bullet list:\n",
    "```{text}```\n",
    "\"\"\""
   ]
  },
  {
   "cell_type": "code",
   "execution_count": 10,
   "id": "244e86dd-5356-4722-b34a-a6b8bb42297f",
   "metadata": {},
   "outputs": [
    {
     "name": "stdout",
     "output_type": "stream",
     "text": [
      "- Jupiter is the fifth planet from the Sun\n",
      "- Jupiter is the largest planet in the Solar System\n",
      "- Jupiter is a gas giant\n",
      "- Jupiter has a mass one-thousandth that of the Sun\n",
      "- Jupiter's mass is two-and-a-half times that of all the other planets in the Solar System combined\n",
      "- Jupiter is one of the brightest objects visible to the naked eye in the night sky\n",
      "- Jupiter has been known to ancient civilizations since before recorded history\n",
      "- Jupiter is named after the Roman god Jupiter\n",
      "- Jupiter can be bright enough for its reflected light to cast visible shadows when viewed from Earth\n",
      "- Jupiter is on average the third-brightest natural object in the night sky after the Moon and Venus\n"
     ]
    }
   ],
   "source": [
    "response = get_completion(prompt)\n",
    "print (response)"
   ]
  },
  {
   "cell_type": "markdown",
   "id": "9e093a13-8534-4f0d-813d-120ef3123c6f",
   "metadata": {},
   "source": [
    "## 3. Ask the model to check weather conditions are satisfied"
   ]
  },
  {
   "cell_type": "code",
   "execution_count": 11,
   "id": "f7e38d2c-1d5f-48b8-aeba-6b8b278371a9",
   "metadata": {},
   "outputs": [],
   "source": [
    "prompt = f\"\"\"\n",
    "you will be provided by text delimited by triple backticks.\n",
    "if the text contains facts, put them in following format:\n",
    "fact 1 - ...\n",
    "fact 2 - ....\n",
    "...\n",
    "\n",
    "if the text contains the distance between Jupiter and Earh, then write at the end : \\\"distance from Earth:\\\", if not say \\\"the distance to Earth is unknown so far\\\".\n",
    "\n",
    "```{text}```\n",
    "\"\"\"\n"
   ]
  },
  {
   "cell_type": "code",
   "execution_count": 12,
   "id": "47c691e9-511d-4607-b0d6-54e578db0740",
   "metadata": {},
   "outputs": [
    {
     "name": "stdout",
     "output_type": "stream",
     "text": [
      "fact 1 - Jupiter is the fifth planet from the Sun.\n",
      "fact 2 - Jupiter is the largest planet in the Solar System.\n",
      "fact 3 - Jupiter is a gas giant.\n",
      "fact 4 - Jupiter has a mass one-thousandth that of the Sun.\n",
      "fact 5 - Jupiter's mass is two-and-a-half times that of all the other planets in the Solar System combined.\n",
      "fact 6 - Jupiter is one of the brightest objects visible to the naked eye in the night sky.\n",
      "fact 7 - Jupiter has been known to ancient civilizations since before recorded history.\n",
      "fact 8 - Jupiter is named after the Roman god Jupiter.\n",
      "fact 9 - Jupiter can be bright enough for its reflected light to cast visible shadows when viewed from Earth.\n",
      "fact 10 - Jupiter is on average the third-brightest natural object in the night sky after the Moon and Venus.\n",
      "\n",
      "the distance to Earth is unknown so far.\n"
     ]
    }
   ],
   "source": [
    "response = get_completion(prompt)\n",
    "print (response)"
   ]
  },
  {
   "cell_type": "markdown",
   "id": "6e111b56-d318-4a4c-b1d5-6f289894e3f0",
   "metadata": {},
   "source": [
    "## 4. \"Few-shot\" prompting"
   ]
  },
  {
   "cell_type": "code",
   "execution_count": 13,
   "id": "40901dfb-8f62-4112-9256-6d7ee552c64c",
   "metadata": {},
   "outputs": [
    {
     "name": "stdout",
     "output_type": "stream",
     "text": [
      "<grandparent>: Resilience is like a mighty oak tree that withstands the fiercest storms, bending but never breaking. It is the ability to bounce back from adversity, to find strength in the face of challenges, and to keep moving forward despite setbacks. Just like the oak tree, resilience grows stronger with each trial it endures.\n"
     ]
    }
   ],
   "source": [
    "prompt = f\"\"\"\n",
    "Your task is to answer in a consistent style.\n",
    "\n",
    "<child>: Teach me about patience.\n",
    "\n",
    "<grandparent>: The river that carves the deepest\n",
    "valley flows from a modest spring; the \n",
    "grandest symphony originates from a single note; \n",
    "the most intricate tapestry begins with a solitary thread.\n",
    "\n",
    "<child>: Teach me about resilience.\n",
    "\"\"\"\n",
    "response = get_completion(prompt)\n",
    "print(response)"
   ]
  },
  {
   "cell_type": "markdown",
   "id": "522ceb81-9988-4a75-93a9-e63c75fd55ec",
   "metadata": {},
   "source": [
    "# Give the model time to think"
   ]
  },
  {
   "cell_type": "markdown",
   "id": "5f24799f-132c-45f3-aef5-7c44edf755ba",
   "metadata": {},
   "source": [
    "## 1. Specify the steps required to complete a task"
   ]
  },
  {
   "cell_type": "markdown",
   "id": "a903f74d-b34e-45c8-8393-b97e37dc4693",
   "metadata": {},
   "source": [
    "### example 1"
   ]
  },
  {
   "cell_type": "code",
   "execution_count": 16,
   "id": "ec2a1480-65bb-43cc-8ae0-f980651ca2b8",
   "metadata": {},
   "outputs": [],
   "source": [
    "text = f\"\"\"\n",
    "In a charming village, siblings Jack and Jill set out on \n",
    "a quest to fetch water from a hilltop \n",
    "well. As they climbed, singing joyfully, misfortune\n",
    "struck—Jack tripped on a stone and tumbled \n",
    "down the hill, with Jill following suit. \n",
    "Though slightly battered, the pair returned home to \n",
    "comforting embraces. Despite the mishap, \n",
    "their adventurous spirits remained undimmed, and they \n",
    "continued exploring with delight.\n",
    "\"\"\"\n",
    "\n",
    "prompt = f\"\"\"\n",
    "Perform the following actions: \n",
    "1 - Summarize the following text delimited by triple \n",
    "backticks with 1 sentence.\n",
    "2 - Translate the summary into French.\n",
    "3 - List each name in the French summary.\n",
    "4 - Output a json object that contains the following \n",
    "keys: french_summary, num_names.\n",
    "\n",
    "Separate your answers with line breaks.\n",
    "\n",
    "Text: \n",
    "```{text}```\n",
    "\"\"\""
   ]
  },
  {
   "cell_type": "code",
   "execution_count": 17,
   "id": "fb3af558-3c00-478e-990e-98227013f780",
   "metadata": {},
   "outputs": [
    {
     "name": "stdout",
     "output_type": "stream",
     "text": [
      "1 - Jack and Jill, siblings from a charming village, go on a quest to fetch water from a hilltop well, but encounter misfortune along the way.\n",
      "\n",
      "2 - Jack et Jill, frère et sœur d'un charmant village, partent en quête d'eau d'un puits au sommet d'une colline, mais rencontrent des malheurs en chemin.\n",
      "\n",
      "3 - Jack, Jill\n",
      "\n",
      "4 - \n",
      "{\n",
      "  \"french_summary\": \"Jack et Jill, frère et sœur d'un charmant village, partent en quête d'eau d'un puits au sommet d'une colline, mais rencontrent des malheurs en chemin.\",\n",
      "  \"num_names\": 2\n",
      "}\n"
     ]
    }
   ],
   "source": [
    "response = get_completion(prompt)\n",
    "print (response)"
   ]
  },
  {
   "cell_type": "markdown",
   "id": "2167873b-07ac-43e9-b351-6865fc38813a",
   "metadata": {},
   "source": [
    "### 2. Ask for the output in a specified format"
   ]
  },
  {
   "cell_type": "code",
   "execution_count": 18,
   "id": "af9501c7-ea9a-4359-b049-a3ee9b48f53a",
   "metadata": {},
   "outputs": [
    {
     "name": "stdout",
     "output_type": "stream",
     "text": [
      "\n",
      "Completion for prompt :\n",
      "Summary: Jack and Jill, two siblings, go on a quest to fetch water from a hilltop well but encounter misfortune along the way.\n",
      "\n",
      "Translation: Jack et Jill, deux frères et sœurs, partent en quête d'eau d'un puits au sommet d'une colline mais rencontrent des malheurs en chemin.\n",
      "\n",
      "Names: Jack, Jill\n",
      "\n",
      "Output JSON: \n",
      "{\n",
      "  \"french_summary\": \"Jack et Jill, deux frères et sœurs, partent en quête d'eau d'un puits au sommet d'une colline mais rencontrent des malheurs en chemin.\",\n",
      "  \"num_names\": 2\n",
      "}\n"
     ]
    }
   ],
   "source": [
    "prompt = f\"\"\"\n",
    "Your task is to perform the following actions: \n",
    "1 - Summarize the following text delimited by \n",
    "  <> with 1 sentence.\n",
    "2 - Translate the summary into French.\n",
    "3 - List each name in the French summary.\n",
    "4 - Output a json object that contains the \n",
    "  following keys: french_summary, num_names.\n",
    "\n",
    "Use the following format:\n",
    "Text: <text to summarize>\n",
    "Summary: <summary>\n",
    "Translation: <summary translation>\n",
    "Names: <list of names in summary>\n",
    "Output JSON: <json with summary and num_names>\n",
    "\n",
    "Text: <{text}>\n",
    "\"\"\"\n",
    "response = get_completion(prompt)\n",
    "print(\"\\nCompletion for prompt :\")\n",
    "print(response)"
   ]
  },
  {
   "cell_type": "markdown",
   "id": "daf758be-8971-49a0-96a0-b55f578f5c11",
   "metadata": {},
   "source": [
    "### 3. Instruct the model to work out its own solution before rushing to a conclusion"
   ]
  },
  {
   "cell_type": "code",
   "execution_count": 20,
   "id": "81194424-9028-4708-85c9-2532ba775da5",
   "metadata": {},
   "outputs": [
    {
     "name": "stdout",
     "output_type": "stream",
     "text": [
      "The student's solution is correct. The total cost for the first year of operations as a function of the number of square feet is indeed 450x + 100,000.\n"
     ]
    }
   ],
   "source": [
    "prompt = f\"\"\"\n",
    "Determine if the student's solution is correct or not.\n",
    "\n",
    "Question:\n",
    "I'm building a solar power installation and I need \n",
    " help working out the financials. \n",
    "- Land costs $100 / square foot\n",
    "- I can buy solar panels for $250 / square foot\n",
    "- I negotiated a contract for maintenance that will cost \n",
    "me a flat $100k per year, and an additional $10 / square \n",
    "foot\n",
    "What is the total cost for the first year of operations \n",
    "as a function of the number of square feet.\n",
    "\n",
    "Student's Solution:\n",
    "Let x be the size of the installation in square feet.\n",
    "Costs:\n",
    "1. Land cost: 100x\n",
    "2. Solar panel cost: 250x\n",
    "3. Maintenance cost: 100,000 + 100x\n",
    "Total cost: 100x + 250x + 100,000 + 100x = 450x + 100,000\n",
    "\"\"\"\n",
    "response = get_completion(prompt)\n",
    "print(response)"
   ]
  },
  {
   "cell_type": "markdown",
   "id": "aee5ca1a-37b4-4420-9541-cee5b47f7def",
   "metadata": {},
   "source": [
    "**Note that the student's solution is not correct**"
   ]
  },
  {
   "cell_type": "markdown",
   "id": "33ba5667-4ac5-4e13-b3e3-0c74d79e3ec0",
   "metadata": {},
   "source": [
    "**Now fix it by instructing the model to work out its own soloution first**"
   ]
  },
  {
   "cell_type": "code",
   "execution_count": 21,
   "id": "92c6ffcd-77e0-4056-8aba-2352bcb38486",
   "metadata": {},
   "outputs": [
    {
     "name": "stdout",
     "output_type": "stream",
     "text": [
      "Let x be the size of the installation in square feet.\n",
      "\n",
      "Costs:\n",
      "1. Land cost: $100 * x\n",
      "2. Solar panel cost: $250 * x\n",
      "3. Maintenance cost: $100,000 + $10 * x\n",
      "\n",
      "Total cost for the first year of operations:\n",
      "Total cost = Land cost + Solar panel cost + Maintenance cost\n",
      "Total cost = $100x + $250x + $100,000 + $10x\n",
      "Total cost = $360x + $100,000\n",
      "\n",
      "So, the total cost for the first year of operations as a function of the number of square feet is 360x + 100,000.\n",
      "\n",
      "Is the student's solution the same as the actual solution just calculated:\n",
      "```\n",
      "No\n",
      "```\n",
      "Student grade:\n",
      "```\n",
      "incorrect\n",
      "```\n"
     ]
    }
   ],
   "source": [
    "prompt = f\"\"\"\n",
    "Your task is to determine if the student's solution \n",
    "is correct or not.\n",
    "To solve the problem do the following:\n",
    "- First, work out your own solution to the problem including the final total. \n",
    "- Then compare your solution to the student's solution \n",
    "and evaluate if the student's solution is correct or not. \n",
    "Don't decide if the student's solution is correct until \n",
    "you have done the problem yourself.\n",
    "\n",
    "Use the following format:\n",
    "Question:\n",
    "```\n",
    "question here\n",
    "```\n",
    "Student's solution:\n",
    "```\n",
    "student's solution here\n",
    "```\n",
    "Actual solution:\n",
    "```\n",
    "steps to work out the solution and your solution here\n",
    "```\n",
    "Is the student's solution the same as actual solution \n",
    "just calculated:\n",
    "```\n",
    "yes or no\n",
    "```\n",
    "Student grade:\n",
    "```\n",
    "correct or incorrect\n",
    "```\n",
    "\n",
    "Question:\n",
    "```\n",
    "I'm building a solar power installation and I need help \n",
    "working out the financials. \n",
    "- Land costs $100 / square foot\n",
    "- I can buy solar panels for $250 / square foot\n",
    "- I negotiated a contract for maintenance that will cost \n",
    "me a flat $100k per year, and an additional $10 / square \n",
    "foot\n",
    "What is the total cost for the first year of operations \n",
    "as a function of the number of square feet.\n",
    "``` \n",
    "Student's solution:\n",
    "```\n",
    "Let x be the size of the installation in square feet.\n",
    "Costs:\n",
    "1. Land cost: 100x\n",
    "2. Solar panel cost: 250x\n",
    "3. Maintenance cost: 100,000 + 100x\n",
    "Total cost: 100x + 250x + 100,000 + 100x = 450x + 100,000\n",
    "```\n",
    "Actual solution:\n",
    "\"\"\"\n",
    "response = get_completion(prompt)\n",
    "print(response)"
   ]
  },
  {
   "cell_type": "code",
   "execution_count": null,
   "id": "3124d79b-8138-4824-9ae6-6904629ed23a",
   "metadata": {},
   "outputs": [],
   "source": []
  }
 ],
 "metadata": {
  "kernelspec": {
   "display_name": "Python 3 (ipykernel)",
   "language": "python",
   "name": "python3"
  },
  "language_info": {
   "codemirror_mode": {
    "name": "ipython",
    "version": 3
   },
   "file_extension": ".py",
   "mimetype": "text/x-python",
   "name": "python",
   "nbconvert_exporter": "python",
   "pygments_lexer": "ipython3",
   "version": "3.12.10"
  }
 },
 "nbformat": 4,
 "nbformat_minor": 5
}
