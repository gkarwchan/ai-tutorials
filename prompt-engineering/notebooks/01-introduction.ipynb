{
 "cells": [
  {
   "cell_type": "markdown",
   "id": "8357d499-7d1d-4344-8bff-f9c1ffcef043",
   "metadata": {},
   "source": [
    "# Why Prompt Engineering"
   ]
  },
  {
   "cell_type": "markdown",
   "id": "0a6f377a-96fa-4791-b116-ea8c25125172",
   "metadata": {},
   "source": [
    "1. Model responses are stochastic: The same prompt will likely produce different responses with different models or model versions.\n",
    "2. Models can fabricate responses: hellucication and fabrication.\n",
    "3. Models capabilities will vary."
   ]
  },
  {
   "cell_type": "code",
   "execution_count": null,
   "id": "f503423b-68c7-497c-8c1b-1899eb036ce8",
   "metadata": {},
   "outputs": [],
   "source": []
  }
 ],
 "metadata": {
  "kernelspec": {
   "display_name": "Python 3 (ipykernel)",
   "language": "python",
   "name": "python3"
  },
  "language_info": {
   "codemirror_mode": {
    "name": "ipython",
    "version": 3
   },
   "file_extension": ".py",
   "mimetype": "text/x-python",
   "name": "python",
   "nbconvert_exporter": "python",
   "pygments_lexer": "ipython3",
   "version": "3.11.6"
  }
 },
 "nbformat": 4,
 "nbformat_minor": 5
}
